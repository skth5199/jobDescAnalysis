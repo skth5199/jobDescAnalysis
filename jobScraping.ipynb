{
 "cells": [
  {
   "cell_type": "code",
   "execution_count": null,
   "id": "95f2227c",
   "metadata": {},
   "outputs": [],
   "source": [
    "from selenium import webdriver\n",
    "import time\n",
    "from selenium.webdriver.common.keys import Keys\n",
    "from bs4 import BeautifulSoup\n",
    "import pandas as pd"
   ]
  },
  {
   "cell_type": "code",
   "execution_count": null,
   "id": "7eb17860",
   "metadata": {},
   "outputs": [],
   "source": [
    "email = \"***********@gmail.com\"\n",
    "password = \"********\"\n",
    "\n",
    "position = \"graduate data analyst\"\n",
    "local = \"london\"\n",
    "\n",
    "position = position.replace(' ', \"%20\")"
   ]
  },
  {
   "cell_type": "code",
   "execution_count": null,
   "id": "2d52fa47",
   "metadata": {},
   "outputs": [],
   "source": [
    "driver_path = \"chromedriver.exe\"\n",
    "driver = webdriver.Chrome(executable_path=driver_path)\n",
    "driver.set_window_size(1280, 720)\n",
    "driver.maximize_window()\n",
    "driver.get('https://www.linkedin.com/login')"
   ]
  },
  {
   "cell_type": "code",
   "execution_count": null,
   "id": "d504a6b7",
   "metadata": {},
   "outputs": [],
   "source": [
    "time.sleep(2)\n",
    "driver.find_element_by_id('username').send_keys(email)\n",
    "driver.find_element_by_id('password').send_keys(password)\n",
    "driver.find_element_by_id('password').send_keys(Keys.RETURN)\n",
    "driver.get(f\"https://www.linkedin.com/jobs/search/?currentJobId=3076826772&keywords={position}&location={local}\")\n",
    "time.sleep(2)"
   ]
  },
  {
   "cell_type": "code",
   "execution_count": null,
   "id": "3a36711e",
   "metadata": {},
   "outputs": [],
   "source": [
    "'''for i in range(1,41):\n",
    "    driver.find_element_by_xpath(f'//button[@aria-label=\"Page {i}\"]').click()\n",
    "    time.sleep(2)\n",
    "    resultset_jobs = driver.find_elements_by_class_name('jobs-search-results__list-item')\n",
    "    desc_list = []\n",
    "    for r in resultset_jobs[len(desc_list):]:\n",
    "        print(r.id)\n",
    "        r.click()\n",
    "        time.sleep(2)\n",
    "        try:\n",
    "            desc = driver.find_element_by_class_name('jobs-description-content__text')\n",
    "            desc_list.append(desc.text)\n",
    "            desc_list.append(\"JD TERMINATED \\n \\n\")\n",
    "            print(desc_list)\n",
    "        except:\n",
    "            print('Error')\n",
    "            pass\n",
    "\n",
    "    final_desc = '\\n'.join(desc_list)\n",
    "    with open('descs'+str(i)+'.txt','w',encoding=\"utf-8\") as f:\n",
    "        f.write(final_desc)\n",
    "driver.quit()'''"
   ]
  },
  {
   "cell_type": "code",
   "execution_count": null,
   "id": "51d02440",
   "metadata": {},
   "outputs": [],
   "source": [
    "for i in range(5,41):\n",
    "    driver.find_element_by_xpath(f'//button[@aria-label=\"Page {i}\"]').click()\n",
    "    time.sleep(2)\n",
    "    resultset_jobs = driver.find_elements_by_class_name('jobs-search-results__list-item')\n",
    "    desc_list = []\n",
    "    for r in resultset_jobs[len(desc_list):]:\n",
    "        r.click()\n",
    "        time.sleep(2)\n",
    "        #job_desc = driver.find_element_by_class_name('jobs-search__right-rail')\n",
    "        job_desc = driver.find_element_by_class_name('jobs-description-content__text')\n",
    "        soup = BeautifulSoup(job_desc.get_attribute('outerHTML'), 'html.parser')\n",
    "        desc_list.append(soup.text)\n",
    "        desc_list.append(\"JD TERMINATED \\n \\n\")\n",
    "\n",
    "    final_desc = '\\n'.join(desc_list)\n",
    "    with open('descs_soup_2'+str(i)+'.txt','w',encoding=\"utf-8\") as f:\n",
    "        f.write(final_desc)\n",
    "driver.quit()"
   ]
  },
  {
   "cell_type": "code",
   "execution_count": null,
   "id": "07a371bf",
   "metadata": {},
   "outputs": [],
   "source": []
  }
 ],
 "metadata": {
  "kernelspec": {
   "display_name": "Python 3 (ipykernel)",
   "language": "python",
   "name": "python3"
  },
  "language_info": {
   "codemirror_mode": {
    "name": "ipython",
    "version": 3
   },
   "file_extension": ".py",
   "mimetype": "text/x-python",
   "name": "python",
   "nbconvert_exporter": "python",
   "pygments_lexer": "ipython3",
   "version": "3.9.7"
  }
 },
 "nbformat": 4,
 "nbformat_minor": 5
}
